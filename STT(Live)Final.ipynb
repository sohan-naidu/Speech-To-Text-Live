{
 "cells": [
  {
   "cell_type": "code",
   "execution_count": 2,
   "metadata": {
    "tags": []
   },
   "outputs": [],
   "source": [
    "# Importing libraries\n",
    "\n",
    "import speech_recognition as sr\n",
    "import nltk\n",
    "from termcolor import colored"
   ]
  },
  {
   "cell_type": "code",
   "execution_count": 2,
   "metadata": {},
   "outputs": [],
   "source": [
    "# Initialising Speech REcognition\n",
    "\n",
    "rec = sr.Recognizer()"
   ]
  },
  {
   "cell_type": "code",
   "execution_count": 3,
   "metadata": {},
   "outputs": [],
   "source": [
    "# Defining a function that takes user's voice input, converts to text\n",
    "\n",
    "def TextLanguage(i):\n",
    "    languages = ['en','hi-IN','kn-IN','ta-IN','te-IN']\n",
    "\n",
    "    with sr.Microphone() as source:\n",
    "        rec.listen(source)\n",
    "        print(colored(\"Listening...\",'red',attrs = ['bold']))\n",
    "        audio = rec.listen(source)\n",
    "        print(colored(\"Stopped\",'yellow',attrs = ['bold']))\n",
    "        \n",
    "        try:\n",
    "        print(\"You said: \"+rec.recognize_google(audio, language = languages[i]))\n",
    "        except:\n",
    "            pass"
   ]
  },
  {
   "cell_type": "code",
   "execution_count": 4,
   "metadata": {
    "tags": []
   },
   "outputs": [
    {
     "output_type": "stream",
     "name": "stdout",
     "text": "Enter the number of the language you'd like to use : \n1. English\n2. Hindi\n3. Kannada\n4. Tamil\n5. Telugu\n"
    }
   ],
   "source": [
    "# Selecting the language \n",
    "\n",
    "print(\"Enter the number of the language you'd like to use : \\n1. English\\n2. Hindi\\n3. Kannada\\n4. Tamil\\n5. Telugu\")\n",
    "lang = int(input())"
   ]
  },
  {
   "cell_type": "code",
   "execution_count": 5,
   "metadata": {
    "tags": []
   },
   "outputs": [
    {
     "output_type": "stream",
     "name": "stdout",
     "text": "\u001b[1m\u001b[31mListening...\u001b[0m\n\u001b[1m\u001b[33mStopped\u001b[0m\nYou said: what is taking you so long\n"
    }
   ],
   "source": [
    "# if-else block for passing the right arguement for the above defined function\n",
    "\n",
    "if(lang == 1):\n",
    "    TextLanguage(0)\n",
    "elif(lang == 2):\n",
    "    TextLanguage(1)\n",
    "elif(lang == 3):\n",
    "    TextLanguage(2)\n",
    "elif(lang == 4):\n",
    "    TextLanguage(3)\n",
    "else:\n",
    "    TextLanguage(4)"
   ]
  }
 ],
 "metadata": {
  "kernelspec": {
   "display_name": "Python 3.8.2 64-bit",
   "language": "python",
   "name": "python_defaultSpec_1596949836219"
  },
  "language_info": {
   "codemirror_mode": {
    "name": "ipython",
    "version": 3
   },
   "file_extension": ".py",
   "mimetype": "text/x-python",
   "name": "python",
   "nbconvert_exporter": "python",
   "pygments_lexer": "ipython3",
   "version": "3.7.6"
  }
 },
 "nbformat": 4,
 "nbformat_minor": 4
}